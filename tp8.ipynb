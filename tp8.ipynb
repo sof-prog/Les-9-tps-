{
 "cells": [
  {
   "cell_type": "markdown",
   "metadata": {
    "toc": "true"
   },
   "source": [
    "<h1>Table of Contents<span class=\"tocSkip\"></span></h1>\n",
    "<div class=\"toc\"><ul class=\"toc-item\"><li><span><a href=\"#Introduction\" data-toc-modified-id=\"Introduction-1\"><span class=\"toc-item-num\">1&nbsp;&nbsp;</span>Introduction</a></span><ul class=\"toc-item\"><li><span><a href=\"#Load-packages-and-related-objects\" data-toc-modified-id=\"Load-packages-and-related-objects-1.1\"><span class=\"toc-item-num\">1.1&nbsp;&nbsp;</span>Load packages and related objects</a></span></li></ul></li><li><span><a href=\"#Data-preparation\" data-toc-modified-id=\"Data-preparation-2\"><span class=\"toc-item-num\">2&nbsp;&nbsp;</span>Data preparation</a></span><ul class=\"toc-item\"><li><span><a href=\"#Load-data\" data-toc-modified-id=\"Load-data-2.1\"><span class=\"toc-item-num\">2.1&nbsp;&nbsp;</span>Load data</a></span></li><li><span><a href=\"#Feature-encoding\" data-toc-modified-id=\"Feature-encoding-2.2\"><span class=\"toc-item-num\">2.2&nbsp;&nbsp;</span>Feature encoding</a></span></li><li><span><a href=\"#Split-dataset-$\\mapsto$-train/test\" data-toc-modified-id=\"Split-dataset-$\\mapsto$-train/test-2.3\"><span class=\"toc-item-num\">2.3&nbsp;&nbsp;</span>Split dataset $\\mapsto$ train/test</a></span></li></ul></li><li><span><a href=\"#Inspection-of-the-training-set\" data-toc-modified-id=\"Inspection-of-the-training-set-3\"><span class=\"toc-item-num\">3&nbsp;&nbsp;</span>Inspection of the training set</a></span><ul class=\"toc-item\"><li><span><a href=\"#Short-summary-of-training-set\" data-toc-modified-id=\"Short-summary-of-training-set-3.1\"><span class=\"toc-item-num\">3.1&nbsp;&nbsp;</span>Short summary of training set</a></span></li><li><span><a href=\"#Visualization\" data-toc-modified-id=\"Visualization-3.2\"><span class=\"toc-item-num\">3.2&nbsp;&nbsp;</span>Visualization</a></span></li></ul></li><li><span><a href=\"#Classification-with-KNN\" data-toc-modified-id=\"Classification-with-KNN-4\"><span class=\"toc-item-num\">4&nbsp;&nbsp;</span>Classification with KNN</a></span><ul class=\"toc-item\"><li><span><a href=\"#Classification-using-all-the-features\" data-toc-modified-id=\"Classification-using-all-the-features-4.1\"><span class=\"toc-item-num\">4.1&nbsp;&nbsp;</span>Classification using all the features</a></span><ul class=\"toc-item\"><li><span><a href=\"#Classification-errors\" data-toc-modified-id=\"Classification-errors-4.1.1\"><span class=\"toc-item-num\">4.1.1&nbsp;&nbsp;</span>Classification errors</a></span></li><li><span><a href=\"#Confusion-matrix\" data-toc-modified-id=\"Confusion-matrix-4.1.2\"><span class=\"toc-item-num\">4.1.2&nbsp;&nbsp;</span>Confusion matrix</a></span></li></ul></li><li><span><a href=\"#Classification-using-only-2-features\" data-toc-modified-id=\"Classification-using-only-2-features-4.2\"><span class=\"toc-item-num\">4.2&nbsp;&nbsp;</span>Classification using only 2 features</a></span><ul class=\"toc-item\"><li><span><a href=\"#Decision-boundary\" data-toc-modified-id=\"Decision-boundary-4.2.1\"><span class=\"toc-item-num\">4.2.1&nbsp;&nbsp;</span>Decision boundary</a></span></li><li><span><a href=\"#Tune-the-$k$-parameter\" data-toc-modified-id=\"Tune-the-$k$-parameter-4.2.2\"><span class=\"toc-item-num\">4.2.2&nbsp;&nbsp;</span>Tune the $k$ parameter</a></span><ul class=\"toc-item\"><li><span><a href=\"#Manually\" data-toc-modified-id=\"Manually-4.2.2.1\"><span class=\"toc-item-num\">4.2.2.1&nbsp;&nbsp;</span>Manually</a></span></li><li><span><a href=\"#Bonus:-with-sklearn-GridSearchCV\" data-toc-modified-id=\"Bonus:-with-sklearn-GridSearchCV-4.2.2.2\"><span class=\"toc-item-num\">4.2.2.2&nbsp;&nbsp;</span>Bonus: with <code>sklearn</code> <a href=\"https://scikit-learn.org/stable/modules/generated/sklearn.model_selection.GridSearchCV.html\" target=\"_blank\"><code>GridSearchCV</code></a></a></span></li></ul></li></ul></li></ul></li></ul></div>"
   ]
  },
  {
   "cell_type": "markdown",
   "metadata": {},
   "source": [
    "# Introduction\n",
    "\n",
    "This goal of this first TP is twofold:\n",
    "\n",
    "- familiarize yourself with Python `pandas, seaborn, sklearn`\n",
    "- practice the data analysis workflow\n",
    "    - with the $k$-NN classifier on a toy example: the [`iris` flower dataset](https://en.wikipedia.org/wiki/Iris_flower_data_set)\n",
    "    - display a descision boundary\n",
    "    - apply a simple receipe to tune the $k$ parameter\n",
    "\n",
    "\n",
    "**You are expected to answer, comment and argument everything you do**"
   ]
  },
  {
   "cell_type": "markdown",
   "metadata": {},
   "source": [
    "## Load packages and related objects"
   ]
  },
  {
   "cell_type": "code",
   "execution_count": 1,
   "metadata": {
    "ExecuteTime": {
     "end_time": "2020-01-28T08:48:02.497853Z",
     "start_time": "2020-01-28T08:48:01.545788Z"
    }
   },
   "outputs": [],
   "source": [
    "import numpy as np\n",
    "import matplotlib.pyplot as plt\n",
    "\n",
    "# use pandas to play with dataset\n",
    "import pandas as pd\n",
    "\n",
    "# use seaborn to display data\n",
    "import seaborn as sns\n",
    "\n",
    "# sklearn is THE Machine Learning library\n",
    "from sklearn.datasets import load_iris ### some training datasets are available in the library\n",
    "from sklearn.model_selection import train_test_split\n",
    "from sklearn.metrics import confusion_matrix\n",
    "\n",
    "# Algorithm of the day\n",
    "from sklearn.neighbors import KNeighborsClassifier as KNN"
   ]
  },
  {
   "cell_type": "markdown",
   "metadata": {},
   "source": [
    "# Data preparation\n",
    "\n",
    "In this first phase you get a first contact with the data\n",
    "\n",
    "- size\n",
    "- name of features (potentially rename some of them)\n",
    "- missing values (there are no missing values with `iris`)\n",
    "- type of features\n",
    "- number of classes\n",
    "\n",
    "and then split it into train/test sets"
   ]
  },
  {
   "cell_type": "markdown",
   "metadata": {},
   "source": [
    "## Load data"
   ]
  },
  {
   "cell_type": "code",
   "execution_count": 2,
   "metadata": {
    "ExecuteTime": {
     "end_time": "2020-01-28T08:48:12.314640Z",
     "start_time": "2020-01-28T08:48:12.288785Z"
    },
    "code_folding": []
   },
   "outputs": [],
   "source": [
    "iris = load_iris() # load iris dataset from scikit-learn"
   ]
  },
  {
   "cell_type": "markdown",
   "metadata": {},
   "source": [
    "What are the attributes of the `iris` object?"
   ]
  },
  {
   "cell_type": "code",
   "execution_count": null,
   "metadata": {
    "ExecuteTime": {
     "end_time": "2020-01-28T08:48:14.339290Z",
     "start_time": "2020-01-28T08:48:14.237352Z"
    }
   },
   "outputs": [
    {
     "name": "stdout",
     "output_type": "stream",
     "text": [
      "Help on Bunch in module sklearn.utils object:\n",
      "\n",
      "class Bunch(builtins.dict)\n",
      " |  Bunch(**kwargs)\n",
      " |  \n",
      " |  Container object for datasets\n",
      " |  \n",
      " |  Dictionary-like object that exposes its keys as attributes.\n",
      " |  \n",
      " |  >>> b = Bunch(a=1, b=2)\n",
      " |  >>> b['b']\n",
      " |  2\n",
      " |  >>> b.b\n",
      " |  2\n",
      " |  >>> b.a = 3\n",
      " |  >>> b['a']\n",
      " |  3\n",
      " |  >>> b.c = 6\n",
      " |  >>> b['c']\n",
      " |  6\n",
      " |  \n",
      " |  Method resolution order:\n",
      " |      Bunch\n",
      " |      builtins.dict\n",
      " |      builtins.object\n",
      " |  \n",
      " |  Methods defined here:\n",
      " |  \n",
      " |  __dir__(self)\n",
      " |      Default dir() implementation.\n",
      " |  \n",
      " |  __getattr__(self, key)\n",
      " |  \n",
      " |  __init__(self, **kwargs)\n",
      " |      Initialize self.  See help(type(self)) for accurate signature.\n",
      " |  \n",
      " |  __setattr__(self, key, value)\n",
      " |      Implement setattr(self, name, value).\n",
      " |  \n",
      " |  __setstate__(self, state)\n",
      " |  \n",
      " |  ----------------------------------------------------------------------\n",
      " |  Data descriptors defined here:\n",
      " |  \n",
      " |  __dict__\n",
      " |      dictionary for instance variables (if defined)\n",
      " |  \n",
      " |  __weakref__\n",
      " |      list of weak references to the object (if defined)\n",
      " |  \n",
      " |  ----------------------------------------------------------------------\n",
      " |  Methods inherited from builtins.dict:\n",
      " |  \n",
      " |  __contains__(self, key, /)\n",
      " |      True if the dictionary has the specified key, else False.\n",
      " |  \n",
      " |  __delitem__(self, key, /)\n",
      " |      Delete self[key].\n",
      " |  \n",
      " |  __eq__(self, value, /)\n",
      " |      Return self==value.\n",
      " |  \n",
      " |  __ge__(self, value, /)\n",
      " |      Return self>=value.\n",
      " |  \n",
      " |  __getattribute__(self, name, /)\n",
      " |      Return getattr(self, name).\n",
      " |  \n",
      " |  __getitem__(...)\n",
      " |      x.__getitem__(y) <==> x[y]\n",
      " |  \n",
      " |  __gt__(self, value, /)\n",
      " |      Return self>value.\n",
      " |  \n",
      " |  __iter__(self, /)\n",
      " |      Implement iter(self).\n",
      " |  \n",
      " |  __le__(self, value, /)\n",
      " |      Return self<=value.\n",
      " |  \n",
      " |  __len__(self, /)\n",
      " |      Return len(self).\n",
      " |  \n",
      " |  __lt__(self, value, /)\n",
      " |      Return self<value.\n",
      " |  \n",
      " |  __ne__(self, value, /)\n",
      " |      Return self!=value.\n",
      " |  \n",
      " |  __repr__(self, /)\n",
      " |      Return repr(self).\n",
      " |  \n",
      " |  __setitem__(self, key, value, /)\n",
      " |      Set self[key] to value.\n",
      " |  \n",
      " |  __sizeof__(...)\n",
      " |      D.__sizeof__() -> size of D in memory, in bytes\n",
      " |  \n",
      " |  clear(...)\n",
      " |      D.clear() -> None.  Remove all items from D.\n",
      " |  \n",
      " |  copy(...)\n",
      " |      D.copy() -> a shallow copy of D\n",
      " |  \n",
      " |  get(self, key, default=None, /)\n",
      " |      Return the value for key if key is in the dictionary, else default.\n",
      " |  \n",
      " |  items(...)\n",
      " |      D.items() -> a set-like object providing a view on D's items\n",
      " |  \n",
      " |  keys(...)\n",
      " |      D.keys() -> a set-like object providing a view on D's keys\n",
      " |  \n",
      " |  pop(...)\n",
      " |      D.pop(k[,d]) -> v, remove specified key and return the corresponding value.\n",
      " |      If key is not found, d is returned if given, otherwise KeyError is raised\n",
      " |  \n",
      " |  popitem(...)\n",
      " |      D.popitem() -> (k, v), remove and return some (key, value) pair as a\n",
      " |      2-tuple; but raise KeyError if D is empty.\n",
      " |  \n",
      " |  setdefault(self, key, default=None, /)\n",
      " |      Insert key with a value of default if key is not in the dictionary.\n",
      " |      \n",
      " |      Return the value for key if key is in the dictionary, else default.\n",
      " |  \n",
      " |  update(...)\n",
      " |      D.update([E, ]**F) -> None.  Update D from dict/iterable E and F.\n",
      " |      If E is present and has a .keys() method, then does:  for k in E: D[k] = E[k]\n",
      " |      If E is present and lacks a .keys() method, then does:  for k, v in E: D[k] = v\n",
      " |      In either case, this is followed by: for k in F:  D[k] = F[k]\n",
      " |  \n",
      " |  values(...)\n",
      " |      D.values() -> an object providing a view on D's values\n",
      " |  \n",
      " |  ----------------------------------------------------------------------\n",
      " |  Class methods inherited from builtins.dict:\n",
      " |  \n",
      " |  fromkeys(iterable, value=None, /) from builtins.type\n",
      " |      Create a new dictionary with keys from iterable and values set to value.\n",
      " |  \n",
      " |  ----------------------------------------------------------------------\n",
      " |  Static methods inherited from builtins.dict:\n",
      " |  \n",
      " |  __new__(*args, **kwargs) from builtins.type\n",
      " |      Create and return a new object.  See help(type) for accurate signature.\n",
      " |  \n",
      " |  ----------------------------------------------------------------------\n",
      " |  Data and other attributes inherited from builtins.dict:\n",
      " |  \n",
      " |  __hash__ = None\n",
      "\n"
     ]
    },
    {
     "data": {
      "text/plain": [
       "['sepal length (cm)',\n",
       " 'sepal width (cm)',\n",
       " 'petal length (cm)',\n",
       " 'petal width (cm)']"
      ]
     },
     "execution_count": 3,
     "metadata": {},
     "output_type": "execute_result"
    }
   ],
   "source": []
  },
  {
   "cell_type": "markdown",
   "metadata": {},
   "source": [
    "What are the Target name of the iris Object ?"
   ]
  },
  {
   "cell_type": "code",
   "execution_count": null,
   "metadata": {
    "ExecuteTime": {
     "end_time": "2020-01-28T08:48:18.972671Z",
     "start_time": "2020-01-28T08:48:18.967678Z"
    }
   },
   "outputs": [],
   "source": []
  },
  {
   "cell_type": "markdown",
   "metadata": {},
   "source": [
    "Create `DataFrame`s:\n",
    "\n",
    "- `X_data` from `iris.data`\n",
    "- `y_data` from `iris.target`\n",
    "    * 2 columns `'label'` (0,1,2) and `'specie'` ('setosa', 'versicolor', 'virginica'')\n",
    "    * set the type of the `'specie'` column to '`category`'"
   ]
  },
  {
   "cell_type": "code",
   "execution_count": 22,
   "metadata": {
    "ExecuteTime": {
     "end_time": "2020-01-28T08:57:04.012661Z",
     "start_time": "2020-01-28T08:57:04.004192Z"
    },
    "code_folding": []
   },
   "outputs": [],
   "source": [
    "X_data = pd.DataFrame(iris.data, columns=iris.feature_names)\n",
    "y_data = pd.DataFrame(iris.target, columns=['label'])\n"
   ]
  },
  {
   "cell_type": "markdown",
   "metadata": {},
   "source": [
    "What is the size of the dataset?\n",
    "\n",
    "Hint: use `.shape`"
   ]
  },
  {
   "cell_type": "code",
   "execution_count": null,
   "metadata": {
    "ExecuteTime": {
     "end_time": "2020-01-28T08:52:47.278796Z",
     "start_time": "2020-01-28T08:52:47.267276Z"
    }
   },
   "outputs": [],
   "source": []
  },
  {
   "cell_type": "markdown",
   "metadata": {},
   "source": [
    "Display the first 10 rows of the dataset\n",
    "\n",
    "Hint: use `.head()`"
   ]
  },
  {
   "cell_type": "code",
   "execution_count": null,
   "metadata": {
    "ExecuteTime": {
     "end_time": "2020-01-28T08:53:00.627789Z",
     "start_time": "2020-01-28T08:53:00.610435Z"
    }
   },
   "outputs": [],
   "source": []
  },
  {
   "cell_type": "markdown",
   "metadata": {},
   "source": [
    "What is the type of each feature and what do they correspond to?"
   ]
  },
  {
   "cell_type": "code",
   "execution_count": null,
   "metadata": {
    "ExecuteTime": {
     "end_time": "2020-01-28T08:54:09.444577Z",
     "start_time": "2020-01-28T08:54:09.432282Z"
    }
   },
   "outputs": [],
   "source": []
  },
  {
   "cell_type": "markdown",
   "metadata": {},
   "source": [
    "What is the proportion of each class?"
   ]
  },
  {
   "cell_type": "code",
   "execution_count": null,
   "metadata": {
    "ExecuteTime": {
     "end_time": "2020-01-28T08:55:58.479556Z",
     "start_time": "2020-01-28T08:55:58.367935Z"
    }
   },
   "outputs": [],
   "source": []
  },
  {
   "cell_type": "markdown",
   "metadata": {},
   "source": [
    "## Feature encoding"
   ]
  },
  {
   "cell_type": "markdown",
   "metadata": {},
   "source": [
    "Try to rename features' name: remove `  (cm)` for simpler calls/display"
   ]
  },
  {
   "cell_type": "code",
   "execution_count": null,
   "metadata": {
    "ExecuteTime": {
     "end_time": "2020-01-28T08:57:13.065701Z",
     "start_time": "2020-01-28T08:57:13.043255Z"
    },
    "code_folding": []
   },
   "outputs": [],
   "source": []
  },
  {
   "cell_type": "markdown",
   "metadata": {},
   "source": [
    "## Split dataset $\\mapsto$ train/test\n",
    "\n",
    "Hint:\n",
    "- use `train_test_split`\n",
    "- think about `shuffle` and `stratified` arguments!\n",
    "\n",
    "After the split the test set is **only** used to assess the performance of your classifier on unseen data."
   ]
  },
  {
   "cell_type": "code",
   "execution_count": 24,
   "metadata": {
    "ExecuteTime": {
     "end_time": "2020-01-28T09:00:25.945186Z",
     "start_time": "2020-01-28T09:00:25.928969Z"
    }
   },
   "outputs": [],
   "source": [
    "test_frac = 1/3 # Fraction of the data set to consider as test set\n",
    "\n",
    "X_train, X_test,\\\n",
    "y_train, y_test = train_test_split(X_data, y_data.label,\n",
    "                                   test_size=test_frac,\n",
    "                                   shuffle=True,\n",
    "                                   stratify=y_data.label)#,\n",
    "#                                    random_state=123)"
   ]
  },
  {
   "cell_type": "markdown",
   "metadata": {},
   "source": [
    "Comment on the impact of the `shuffle` and `stratified` arguments on the proportion of classes"
   ]
  },
  {
   "cell_type": "markdown",
   "metadata": {},
   "source": [
    "Shuffle the data + respect the proportion of values in each class."
   ]
  },
  {
   "cell_type": "markdown",
   "metadata": {},
   "source": [
    "What could the `random_state` argument be used for? "
   ]
  },
  {
   "cell_type": "markdown",
   "metadata": {
    "ExecuteTime": {
     "end_time": "2020-01-28T09:01:26.237607Z",
     "start_time": "2020-01-28T09:01:26.226343Z"
    }
   },
   "source": [
    "Reproducibility of experiments."
   ]
  },
  {
   "cell_type": "markdown",
   "metadata": {},
   "source": [
    "___\n",
    "\n",
    "Create a `DataFrame` named `data_train` as the concatenation of `X_train` and the corresponding labels.\n",
    "\n",
    "That will be convenient to use in the visualization part"
   ]
  },
  {
   "cell_type": "code",
   "execution_count": null,
   "metadata": {
    "ExecuteTime": {
     "end_time": "2020-01-28T09:01:49.258314Z",
     "start_time": "2020-01-28T09:01:49.233212Z"
    }
   },
   "outputs": [],
   "source": []
  },
  {
   "cell_type": "markdown",
   "metadata": {},
   "source": [
    "# Inspection of the training set"
   ]
  },
  {
   "cell_type": "markdown",
   "metadata": {},
   "source": [
    "This is the most important part!\n",
    "\n",
    "You must carefully study the distribution of your data.\n",
    "\n",
    "For this purpose you are free to compute and display as many stastistical properties of the data and make some relevant comments."
   ]
  },
  {
   "cell_type": "markdown",
   "metadata": {},
   "source": [
    "## Short summary of training set\n",
    "\n",
    "Hint: you can use the `describe` method"
   ]
  },
  {
   "cell_type": "code",
   "execution_count": null,
   "metadata": {
    "ExecuteTime": {
     "end_time": "2020-01-28T09:03:38.345988Z",
     "start_time": "2020-01-28T09:03:38.308728Z"
    }
   },
   "outputs": [],
   "source": []
  },
  {
   "cell_type": "markdown",
   "metadata": {},
   "source": [
    "Compute the correlation matrix"
   ]
  },
  {
   "cell_type": "code",
   "execution_count": null,
   "metadata": {
    "ExecuteTime": {
     "end_time": "2020-01-28T09:04:25.449428Z",
     "start_time": "2020-01-28T09:04:25.426485Z"
    }
   },
   "outputs": [],
   "source": []
  },
  {
   "cell_type": "markdown",
   "metadata": {},
   "source": [
    "## Visualization\n",
    "\n",
    "Enjoy [`seaborn`](https://seaborn.pydata.org/index.html) displays\n",
    "\n",
    "- `boxplot`\n",
    "- `violinplot`\n",
    "- `pairplot`\n",
    "- `pie`"
   ]
  },
  {
   "cell_type": "code",
   "execution_count": null,
   "metadata": {
    "ExecuteTime": {
     "end_time": "2020-01-28T09:06:41.358294Z",
     "start_time": "2020-01-28T09:06:40.829196Z"
    }
   },
   "outputs": [],
   "source": [
    "for feature in X_train.columns:\n",
    "    sns.catplot()"
   ]
  },
  {
   "cell_type": "code",
   "execution_count": null,
   "metadata": {
    "ExecuteTime": {
     "end_time": "2020-01-28T09:07:04.348662Z",
     "start_time": "2020-01-28T09:07:00.753147Z"
    }
   },
   "outputs": [],
   "source": [
    "sns.pairplot()\n",
    "plt.show()"
   ]
  },
  {
   "cell_type": "code",
   "execution_count": null,
   "metadata": {
    "ExecuteTime": {
     "end_time": "2020-01-28T09:10:36.969583Z",
     "start_time": "2020-01-28T09:10:36.467443Z"
    }
   },
   "outputs": [],
   "source": [
    "for x in X_train.columns:\n",
    "    sns.boxplot()\n",
    "    plt.show()"
   ]
  },
  {
   "cell_type": "markdown",
   "metadata": {},
   "source": [
    "# Classification with KNN"
   ]
  },
  {
   "cell_type": "markdown",
   "metadata": {},
   "source": [
    "## Classification using all the features\n",
    "\n",
    "The `sklearn` classifier [`KNeighborsClassifier`](https://scikit-learn.org/stable/modules/generated/sklearn.neighbors.KNeighborsClassifier.html#sklearn.neighbors.KNeighborsClassifier) works as a regular Python object! \n",
    "\n",
    "In particular it has \n",
    "\n",
    "- attributes:\n",
    "    - `n_neighbors`$=k$\n",
    "    - [`metric`](https://scikit-learn.org/stable/modules/generated/sklearn.neighbors.DistanceMetric.html)\n",
    "    - `weights`\n",
    "- methods\n",
    "    - `.fit` to train the model\n",
    "    - `.predict` to predict tests' label (specie)\n",
    "    - `.score` to prodive classification score"
   ]
  },
  {
   "cell_type": "markdown",
   "metadata": {},
   "source": [
    "Create a baseline $k$-NN classifier with $k=3$ and train the model on `X_train` and `y_train`"
   ]
  },
  {
   "cell_type": "code",
   "execution_count": 39,
   "metadata": {
    "ExecuteTime": {
     "end_time": "2020-01-28T09:14:21.872185Z",
     "start_time": "2020-01-28T09:14:21.796261Z"
    }
   },
   "outputs": [
    {
     "data": {
      "text/plain": [
       "KNeighborsClassifier(algorithm='auto', leaf_size=30, metric='euclidean',\n",
       "                     metric_params=None, n_jobs=None, n_neighbors=3, p=2,\n",
       "                     weights='uniform')"
      ]
     },
     "execution_count": 39,
     "metadata": {},
     "output_type": "execute_result"
    }
   ],
   "source": []
  },
  {
   "cell_type": "markdown",
   "metadata": {},
   "source": [
    "### Classification errors"
   ]
  },
  {
   "cell_type": "markdown",
   "metadata": {},
   "source": [
    "Compute the classification error on the training set `X_train` in 2 ways:\n",
    "\n",
    "- use `predict` method\n",
    "- use `score` method"
   ]
  },
  {
   "cell_type": "code",
   "execution_count": 44,
   "metadata": {
    "ExecuteTime": {
     "end_time": "2020-01-28T09:18:13.824499Z",
     "start_time": "2020-01-28T09:18:13.798307Z"
    }
   },
   "outputs": [
    {
     "name": "stdout",
     "output_type": "stream",
     "text": [
      "The score method computes the accuracy: 0.960000\n",
      "This method is more manual: 0.960000\n"
     ]
    }
   ],
   "source": []
  },
  {
   "cell_type": "markdown",
   "metadata": {},
   "source": [
    "Now evaluate your model on the test set and give the corresponding classification error, `err_test`"
   ]
  },
  {
   "cell_type": "code",
   "execution_count": 55,
   "metadata": {
    "ExecuteTime": {
     "end_time": "2020-01-28T09:24:09.932204Z",
     "start_time": "2020-01-28T09:24:09.907852Z"
    }
   },
   "outputs": [
    {
     "name": "stdout",
     "output_type": "stream",
     "text": [
      "We compute the test error using the score function: 0.040000\n"
     ]
    }
   ],
   "source": []
  },
  {
   "cell_type": "markdown",
   "metadata": {},
   "source": [
    "### Confusion matrix\n",
    "\n",
    "Use the function `confusion_matrix` to compute the confusion matrix called `conf_mat`of the classifier on the test set."
   ]
  },
  {
   "cell_type": "code",
   "execution_count": 56,
   "metadata": {
    "ExecuteTime": {
     "end_time": "2020-01-28T09:24:18.955187Z",
     "start_time": "2020-01-28T09:24:18.945981Z"
    }
   },
   "outputs": [],
   "source": []
  },
  {
   "cell_type": "markdown",
   "metadata": {},
   "source": [
    "To display a nice confusion matrix you can use the following"
   ]
  },
  {
   "cell_type": "code",
   "execution_count": 57,
   "metadata": {
    "ExecuteTime": {
     "end_time": "2020-01-28T09:24:20.540536Z",
     "start_time": "2020-01-28T09:24:20.322158Z"
    },
    "scrolled": false
   },
   "outputs": [
    {
     "data": {
      "image/png": "[encoded data removed]",
      "text/plain": [
       "<Figure size 432x288 with 2 Axes>"
      ]
     },
     "metadata": {
      "needs_background": "light"
     },
     "output_type": "display_data"
    }
   ],
   "source": []
  },
  {
   "cell_type": "markdown",
   "metadata": {},
   "source": [
    "Any comment?"
   ]
  },
  {
   "cell_type": "markdown",
   "metadata": {},
   "source": [
    "Pretty nice, isn't it?\n",
    "We make 100% of accurate prediction on the first category. This is expected as the data of the first category well clearly well separated from the others in our pair plots. The predictions on the other classes are also quite good."
   ]
  },
  {
   "cell_type": "markdown",
   "metadata": {},
   "source": [
    "## Classification using only 2 features\n",
    "\n",
    "From the visualization part what could be the best 2 discriminative features?\n",
    "\n",
    "Create `X_train_2D` the corresponding 2D training set."
   ]
  },
  {
   "cell_type": "code",
   "execution_count": 58,
   "metadata": {
    "ExecuteTime": {
     "end_time": "2020-01-28T09:29:37.305826Z",
     "start_time": "2020-01-28T09:29:37.298959Z"
    }
   },
   "outputs": [],
   "source": []
  },
  {
   "cell_type": "markdown",
   "metadata": {},
   "source": [
    "Train a baseline $k$-NN classifier based only on these 2 features, with $k=3$"
   ]
  },
  {
   "cell_type": "code",
   "execution_count": 66,
   "metadata": {
    "ExecuteTime": {
     "end_time": "2020-01-28T09:32:49.626245Z",
     "start_time": "2020-01-28T09:32:49.595971Z"
    }
   },
   "outputs": [
    {
     "name": "stdout",
     "output_type": "stream",
     "text": [
      "0.98\n",
      "0.96\n"
     ]
    }
   ],
   "source": []
  },
  {
   "cell_type": "markdown",
   "metadata": {},
   "source": [
    "### Decision boundary"
   ]
  },
  {
   "cell_type": "markdown",
   "metadata": {},
   "source": [
    "To do this, you can mesh the input space and predict the class of each point of the mesh"
   ]
  },
  {
   "cell_type": "markdown",
   "metadata": {},
   "source": [
    "To construct the mesh you can use"
   ]
  },
  {
   "cell_type": "code",
   "execution_count": 60,
   "metadata": {
    "ExecuteTime": {
     "end_time": "2020-01-28T09:30:18.327668Z",
     "start_time": "2020-01-28T09:30:18.309195Z"
    }
   },
   "outputs": [],
   "source": []
  },
  {
   "cell_type": "markdown",
   "metadata": {},
   "source": [
    "Predict labels of the mesh's nodes"
   ]
  },
  {
   "cell_type": "code",
   "execution_count": 70,
   "metadata": {
    "ExecuteTime": {
     "end_time": "2020-01-28T09:33:28.629219Z",
     "start_time": "2020-01-28T09:33:28.399505Z"
    }
   },
   "outputs": [],
   "source": []
  },
  {
   "cell_type": "markdown",
   "metadata": {},
   "source": [
    "To display the decision boundary you can use `contourf` in the following way"
   ]
  },
  {
   "cell_type": "code",
   "execution_count": 71,
   "metadata": {
    "ExecuteTime": {
     "end_time": "2020-01-28T09:33:30.437607Z",
     "start_time": "2020-01-28T09:33:30.128173Z"
    }
   },
   "outputs": [
    {
     "data": {
      "image/png": "[encoded data removed]",
      "text/plain": [
       "<Figure size 432x288 with 1 Axes>"
      ]
     },
     "metadata": {
      "needs_background": "light"
     },
     "output_type": "display_data"
    }
   ],
   "source": []
  },
  {
   "cell_type": "markdown",
   "metadata": {},
   "source": [
    "Now **you** can display both the decision boundary and train/test examples"
   ]
  },
  {
   "cell_type": "code",
   "execution_count": 75,
   "metadata": {
    "ExecuteTime": {
     "end_time": "2020-01-28T09:35:44.147420Z",
     "start_time": "2020-01-28T09:35:43.753115Z"
    }
   },
   "outputs": [
    {
     "data": {
      "image/png": "[encoded data removed]",
      "text/plain": [
       "<Figure size 1008x360 with 2 Axes>"
      ]
     },
     "metadata": {
      "needs_background": "light"
     },
     "output_type": "display_data"
    }
   ],
   "source": [
    "n_neigh = 3\n",
    "# Plot\n",
    "fig, axes = plt.subplots(1, 2, figsize=(14, 5))\n",
    "plt.subplots_adjust(wspace=0.4, hspace=0.4)\n",
    "\n",
    "title_main = r'$k$={} NN, based on {}'.format(n_neigh, ' and '.join(features))\n",
    "\n",
    "data_types = ['train', 'test']\n",
    "datas = [(X_train, y_train), (X_test, y_test)]\n",
    "\n",
    "for dat, dat_typ, ax in zip(datas, data_types, axes.ravel()):\n",
    "    \n",
    "    X, y = dat\n",
    "    err_sc = 100*(1.0-model2.score(X[features], y))\n",
    "    tit_sub = 'with {} error = {:.2f}%'.format(dat_typ, err_sc)\n",
    "    \n",
    "    ax.set_title('\\n'.join([title_main, tit_sub]))\n",
    "    # Decision boundary\n",
    "    ax.contourf(xx, yy, y_pred_mesh.reshape(xx.shape),\n",
    "                cmap=plt.cm.coolwarm, alpha=0.7)\n",
    "\n",
    "    # Plot also the training/test points\n",
    "    ax.scatter(X[features[0]], X[features[1]], c=y, \n",
    "               cmap=plt.cm.coolwarm, edgecolor='k', s=30)\n",
    "\n",
    "    ax.set_xlabel(features[0]); ax.set_xlim(xx.min(), xx.max())\n",
    "    ax.set_ylabel(features[1]); ax.set_ylim(yy.min(), yy.max())\n",
    "\n",
    "plt.show()"
   ]
  },
  {
   "cell_type": "markdown",
   "metadata": {},
   "source": [
    "### Tune the $k$ parameter"
   ]
  },
  {
   "cell_type": "markdown",
   "metadata": {},
   "source": [
    "#### Manually\n",
    "\n",
    "Split the 2D training set into a smaller dataset and one validation set.\n",
    "\n",
    "The latter is used as an indicator of the predicting power of $k$-NN classifier on the test set for different values of $k$.\n",
    "\n",
    "In other words\n",
    "\n",
    "- `X_train_2D, y_train` $\\mapsto$ `X_train_small` $\\cup$ `X_valid`, `y_valid` $\\cup$ `y_train_small`\n",
    "- Fit the model for different values of $k$ and predict on the validation set\n",
    "- Pick the value of $k$ that yields the smallest validation error"
   ]
  },
  {
   "cell_type": "code",
   "execution_count": 76,
   "metadata": {
    "ExecuteTime": {
     "end_time": "2020-01-28T09:37:29.231837Z",
     "start_time": "2020-01-28T09:37:29.219831Z"
    }
   },
   "outputs": [],
   "source": []
  },
  {
   "cell_type": "code",
   "execution_count": 77,
   "metadata": {
    "ExecuteTime": {
     "end_time": "2020-01-28T09:37:30.136562Z",
     "start_time": "2020-01-28T09:37:30.129630Z"
    }
   },
   "outputs": [
    {
     "data": {
      "text/plain": [
       "KNeighborsClassifier(algorithm='auto', leaf_size=30, metric='euclidean',\n",
       "                     metric_params=None, n_jobs=None, n_neighbors=5, p=2,\n",
       "                     weights='uniform')"
      ]
     },
     "execution_count": 77,
     "metadata": {},
     "output_type": "execute_result"
    }
   ],
   "source": []
  },
  {
   "cell_type": "code",
   "execution_count": 78,
   "metadata": {
    "ExecuteTime": {
     "end_time": "2020-01-28T09:37:31.254094Z",
     "start_time": "2020-01-28T09:37:31.096581Z"
    }
   },
   "outputs": [],
   "source": []
  },
  {
   "cell_type": "code",
   "execution_count": 79,
   "metadata": {
    "ExecuteTime": {
     "end_time": "2020-01-28T09:37:32.470247Z",
     "start_time": "2020-01-28T09:37:32.238819Z"
    }
   },
   "outputs": [
    {
     "data": {
      "image/png": "[encoded data removed]",
      "text/plain": [
       "<Figure size 432x288 with 1 Axes>"
      ]
     },
     "metadata": {
      "needs_background": "light"
     },
     "output_type": "display_data"
    }
   ],
   "source": []
  },
  {
   "cell_type": "code",
   "execution_count": 85,
   "metadata": {
    "ExecuteTime": {
     "end_time": "2020-01-28T09:38:51.338369Z",
     "start_time": "2020-01-28T09:38:51.331241Z"
    }
   },
   "outputs": [],
   "source": []
  },
  {
   "cell_type": "code",
   "execution_count": 86,
   "metadata": {
    "ExecuteTime": {
     "end_time": "2020-01-28T09:38:51.623408Z",
     "start_time": "2020-01-28T09:38:51.612086Z"
    }
   },
   "outputs": [
    {
     "name": "stdout",
     "output_type": "stream",
     "text": [
      "Test error 4.0000000000000036\n"
     ]
    }
   ],
   "source": []
  },
  {
   "cell_type": "markdown",
   "metadata": {},
   "source": [
    "#### Bonus: with `sklearn` [`GridSearchCV`](https://scikit-learn.org/stable/modules/generated/sklearn.model_selection.GridSearchCV.html)"
   ]
  },
  {
   "cell_type": "code",
   "execution_count": 87,
   "metadata": {
    "ExecuteTime": {
     "end_time": "2020-01-28T09:39:17.358394Z",
     "start_time": "2020-01-28T09:39:17.350848Z"
    }
   },
   "outputs": [],
   "source": [
    "from sklearn.model_selection import GridSearchCV"
   ]
  },
  {
   "cell_type": "code",
   "execution_count": 88,
   "metadata": {
    "ExecuteTime": {
     "end_time": "2020-01-28T09:39:32.330647Z",
     "start_time": "2020-01-28T09:39:31.384238Z"
    }
   },
   "outputs": [
    {
     "name": "stderr",
     "output_type": "stream",
     "text": [
      "/home/dbaudry/anaconda3/lib/python3.7/site-packages/sklearn/model_selection/_search.py:814: DeprecationWarning: The default of the `iid` parameter will change from True to False in version 0.22 and will be removed in 0.24. This will change numeric results when test-set sizes are unequal.\n",
      "  DeprecationWarning)\n"
     ]
    },
    {
     "data": {
      "text/plain": [
       "GridSearchCV(cv=5, error_score='raise-deprecating',\n",
       "             estimator=KNeighborsClassifier(algorithm='auto', leaf_size=30,\n",
       "                                            metric='euclidean',\n",
       "                                            metric_params=None, n_jobs=None,\n",
       "                                            n_neighbors=5, p=2,\n",
       "                                            weights='uniform'),\n",
       "             iid='warn', n_jobs=None,\n",
       "             param_grid={'n_neighbors': array([ 1,  2,  3,  4,  5,  6,  7,  8,  9, 10, 11, 12, 13, 14, 15, 16, 17,\n",
       "       18, 19]),\n",
       "                         'weights': ['uniform', 'distance']},\n",
       "             pre_dispatch='2*n_jobs', refit=True, return_train_score=True,\n",
       "             scoring='accuracy', verbose=0)"
      ]
     },
     "execution_count": 88,
     "metadata": {},
     "output_type": "execute_result"
    }
   ],
   "source": [
    "nb_folds = 5\n",
    "grid = {'n_neighbors': np.arange(1, 20),\n",
    "        'weights': ['uniform', 'distance']}\n",
    "knn_gs = GridSearchCV(estimator=KNN(metric='euclidean'),\n",
    "                           param_grid=grid,\n",
    "                           cv=nb_folds,\n",
    "                           return_train_score=True,\n",
    "                           scoring='accuracy')\n",
    "\n",
    "# features = ['sepal_length', 'sepal_width', 'petal_length', 'petal_width']\n",
    "features = ['petal_length', 'sepal_width']\n",
    "\n",
    "# train the classifier with the best values found by cross validation\n",
    "knn_gs.fit(X_train[features], y_train)"
   ]
  },
  {
   "cell_type": "code",
   "execution_count": 89,
   "metadata": {
    "ExecuteTime": {
     "end_time": "2020-01-28T09:40:41.299635Z",
     "start_time": "2020-01-28T09:40:41.289536Z"
    }
   },
   "outputs": [
    {
     "name": "stdout",
     "output_type": "stream",
     "text": [
      "{'n_neighbors': 16, 'weights': 'uniform'}\n"
     ]
    }
   ],
   "source": [
    "print(knn_gs.best_params_)"
   ]
  },
  {
   "cell_type": "code",
   "execution_count": 90,
   "metadata": {
    "ExecuteTime": {
     "end_time": "2020-01-28T09:40:56.665313Z",
     "start_time": "2020-01-28T09:40:56.643347Z"
    }
   },
   "outputs": [
    {
     "name": "stdout",
     "output_type": "stream",
     "text": [
      "the test error is 0.020000000000000018\n"
     ]
    }
   ],
   "source": [
    "knn_best = knn_gs.best_estimator_\n",
    "knn_best.fit(X_train[features], y_train)\n",
    "print(\"the test error is\", 1-knn_best.score(X_test[features], y_test))"
   ]
  },
  {
   "cell_type": "markdown",
   "metadata": {},
   "source": [
    "Inside the `knn_gs` object, one can retrieve all kind of informations about how the cross-validation went. Especially, one can use that information to plot the validation error as a function of the parameter k."
   ]
  },
  {
   "cell_type": "code",
   "execution_count": 91,
   "metadata": {
    "ExecuteTime": {
     "end_time": "2020-01-28T09:41:15.727283Z",
     "start_time": "2020-01-28T09:41:15.592540Z"
    }
   },
   "outputs": [
    {
     "name": "stdout",
     "output_type": "stream",
     "text": [
      "[{'n_neighbors': 1, 'weights': 'uniform'}, {'n_neighbors': 1, 'weights': 'distance'}, {'n_neighbors': 2, 'weights': 'uniform'}, {'n_neighbors': 2, 'weights': 'distance'}, {'n_neighbors': 3, 'weights': 'uniform'}, {'n_neighbors': 3, 'weights': 'distance'}, {'n_neighbors': 4, 'weights': 'uniform'}, {'n_neighbors': 4, 'weights': 'distance'}, {'n_neighbors': 5, 'weights': 'uniform'}, {'n_neighbors': 5, 'weights': 'distance'}, {'n_neighbors': 6, 'weights': 'uniform'}, {'n_neighbors': 6, 'weights': 'distance'}, {'n_neighbors': 7, 'weights': 'uniform'}, {'n_neighbors': 7, 'weights': 'distance'}, {'n_neighbors': 8, 'weights': 'uniform'}, {'n_neighbors': 8, 'weights': 'distance'}, {'n_neighbors': 9, 'weights': 'uniform'}, {'n_neighbors': 9, 'weights': 'distance'}, {'n_neighbors': 10, 'weights': 'uniform'}, {'n_neighbors': 10, 'weights': 'distance'}, {'n_neighbors': 11, 'weights': 'uniform'}, {'n_neighbors': 11, 'weights': 'distance'}, {'n_neighbors': 12, 'weights': 'uniform'}, {'n_neighbors': 12, 'weights': 'distance'}, {'n_neighbors': 13, 'weights': 'uniform'}, {'n_neighbors': 13, 'weights': 'distance'}, {'n_neighbors': 14, 'weights': 'uniform'}, {'n_neighbors': 14, 'weights': 'distance'}, {'n_neighbors': 15, 'weights': 'uniform'}, {'n_neighbors': 15, 'weights': 'distance'}, {'n_neighbors': 16, 'weights': 'uniform'}, {'n_neighbors': 16, 'weights': 'distance'}, {'n_neighbors': 17, 'weights': 'uniform'}, {'n_neighbors': 17, 'weights': 'distance'}, {'n_neighbors': 18, 'weights': 'uniform'}, {'n_neighbors': 18, 'weights': 'distance'}, {'n_neighbors': 19, 'weights': 'uniform'}, {'n_neighbors': 19, 'weights': 'distance'}]\n",
      "[0.89 0.89 0.87 0.89 0.89 0.9  0.89 0.91 0.91 0.91 0.88 0.9  0.89 0.91\n",
      " 0.91 0.9  0.9  0.91 0.9  0.9  0.91 0.91 0.9  0.91 0.92 0.91 0.9  0.91\n",
      " 0.91 0.91 0.93 0.9  0.91 0.91 0.92 0.9  0.9  0.9 ]\n"
     ]
    },
    {
     "data": {
      "image/png": "[encoded data removed]",
      "text/plain": [
       "<Figure size 432x288 with 1 Axes>"
      ]
     },
     "metadata": {
      "needs_background": "light"
     },
     "output_type": "display_data"
    }
   ],
   "source": [
    "# all the combinations of the parameter tried \n",
    "params_gs = knn_gs.cv_results_['params']\n",
    "print(params_gs)\n",
    "\n",
    "# retrieve the cross-validation error for all the parameters \n",
    "test_gs = knn_gs.cv_results_['mean_test_score']\n",
    "print(test_gs)\n",
    "\n",
    "# for the choice of \"uniform\", first retrieve the corresponding indices\n",
    "ind_unif = [i for i, par in enumerate(params_gs) if par['weights']=='uniform']\n",
    "\n",
    "k_range = grid['n_neighbors']\n",
    "\n",
    "plt.title('Cross-validation error as a function of k')\n",
    "plt.plot(k_range, test_gs[ind_unif])\n",
    "plt.show()"
   ]
  },
  {
   "cell_type": "code",
   "execution_count": null,
   "metadata": {},
   "outputs": [],
   "source": []
  }
 ],
 "metadata": {
  "anaconda-cloud": {},
  "kernelspec": {
   "display_name": "Python 3",
   "language": "python",
   "name": "python3"
  },
  "language_info": {
   "codemirror_mode": {
    "name": "ipython",
    "version": 3
   },
   "file_extension": ".py",
   "mimetype": "text/x-python",
   "name": "python",
   "nbconvert_exporter": "python",
   "pygments_lexer": "ipython3",
   "version": "3.7.4"
  },
  "toc": {
   "base_numbering": 1,
   "nav_menu": {
    "height": "448.352px",
    "width": "251.989px"
   },
   "number_sections": true,
   "sideBar": true,
   "skip_h1_title": false,
   "title_cell": "Table of Contents",
   "title_sidebar": "Contents",
   "toc_cell": true,
   "toc_position": {
    "height": "580px",
    "left": "0px",
    "right": "1068px",
    "top": "110px",
    "width": "212px"
   },
   "toc_section_display": "block",
   "toc_window_display": true
  }
 },
 "nbformat": 4,
 "nbformat_minor": 2
}
