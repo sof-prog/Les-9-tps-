{
 "cells": [
  {
   "cell_type": "code",
   "execution_count": 26,
   "id": "initial_id",
   "metadata": {
    "collapsed": true,
    "ExecuteTime": {
     "end_time": "2024-04-29T15:17:36.863964Z",
     "start_time": "2024-04-29T15:17:34.384077Z"
    }
   },
   "outputs": [],
   "source": [
    "import pandas as pd\n",
    "from sklearn.model_selection import train_test_split\n",
    "from sklearn.preprocessing import StandardScaler, OneHotEncoder\n",
    "from sklearn.compose import ColumnTransformer\n",
    "from sklearn.pipeline import Pipeline\n",
    "from sklearn.linear_model import LogisticRegression\n",
    "\n",
    "# Charger les données d'entraînement et de test\n",
    "train_data = pd.read_csv('train(1).csv')\n",
    "test_data = pd.read_csv('test(1).csv')\n",
    "\n",
    "# Séparer les features et la cible dans les données d'entraînement\n",
    "X_train = train_data.drop(columns=['Exited'])\n",
    "y_train = train_data['Exited']\n",
    "\n",
    "# Identifier les colonnes catégorielles\n",
    "categorical_columns = [col for col in X_train.columns if X_train[col].dtype == 'object']\n",
    "\n",
    "# Créer des transformateurs pour l'encodage des variables catégorielles et la mise à l'échelle des features numériques\n",
    "categorical_transformer = OneHotEncoder(handle_unknown='ignore')\n",
    "numerical_transformer = StandardScaler()\n",
    "\n",
    "# Combiner les transformateurs\n",
    "preprocessor = ColumnTransformer(\n",
    "    transformers=[\n",
    "        ('cat', categorical_transformer, categorical_columns),\n",
    "        ('num', numerical_transformer, [col for col in X_train.columns if col not in categorical_columns])\n",
    "    ])\n",
    "\n",
    "# Initialiser le modèle LogisticRegression avec une augmentation du nombre d'itérations\n",
    "model = LogisticRegression(max_iter=1000)\n",
    "\n",
    "# Créer un pipeline incluant le prétraitement et le modèle\n",
    "pipeline = Pipeline(steps=[('preprocessor', preprocessor),\n",
    "                           ('classifier', model)])\n",
    "\n",
    "# Entraîner le modèle\n",
    "pipeline.fit(X_train, y_train)\n",
    "\n",
    "# Prétraitement des données de test (si nécessaire)\n",
    "X_test = test_data\n",
    "\n",
    "# Prédire la probabilité de 'Exited' pour les données de test\n",
    "test_probabilities = pipeline.predict_proba(X_test)[:, 1]\n",
    "\n",
    "# Créer un DataFrame pour les probabilités prédites\n",
    "submission_df = pd.DataFrame({'id': test_data['id'], 'Exited': test_probabilities})\n",
    "\n",
    "# Enregistrer les prédictions au format CSV\n",
    "submission_df.to_csv('sample-submission.csv', index=False)\n"
   ]
  },
  {
   "cell_type": "code",
   "outputs": [],
   "source": [],
   "metadata": {
    "collapsed": false,
    "ExecuteTime": {
     "end_time": "2024-04-29T15:12:12.293810Z",
     "start_time": "2024-04-29T15:12:12.288932Z"
    }
   },
   "id": "49744b6a8134e0db",
   "execution_count": 17
  },
  {
   "cell_type": "code",
   "outputs": [],
   "source": [],
   "metadata": {
    "collapsed": false,
    "ExecuteTime": {
     "end_time": "2024-04-29T15:12:14.793965Z",
     "start_time": "2024-04-29T15:12:14.790705Z"
    }
   },
   "id": "c062df19f90a1da6",
   "execution_count": 17
  }
 ],
 "metadata": {
  "kernelspec": {
   "display_name": "Python 3",
   "language": "python",
   "name": "python3"
  },
  "language_info": {
   "codemirror_mode": {
    "name": "ipython",
    "version": 2
   },
   "file_extension": ".py",
   "mimetype": "text/x-python",
   "name": "python",
   "nbconvert_exporter": "python",
   "pygments_lexer": "ipython2",
   "version": "2.7.6"
  }
 },
 "nbformat": 4,
 "nbformat_minor": 5
}
